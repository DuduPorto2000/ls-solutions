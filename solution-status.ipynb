{
  "nbformat": 4,
  "nbformat_minor": 0,
  "metadata": {
    "colab": {
      "name": "Untitled0.ipynb",
      "provenance": [],
      "collapsed_sections": []
    },
    "kernelspec": {
      "name": "python3",
      "display_name": "Python 3"
    }
  },
  "cells": [
    {
      "cell_type": "code",
      "execution_count": 17,
      "metadata": {},
      "outputs": [],
      "source": [
        "import os\n",
        "import json\n",
        "import pandas as pd\n",
        "\n",
        "students = (\n",
        "  'alecsander.camilo',\n",
        "  'amarildo.melo',\n",
        "  'ana.caldas',\n",
        "  'lima.anderson',\n",
        "  'diedjon.souza',\n",
        "  'sousa.felipe',\n",
        "  'flavio.souza',\n",
        "  'italo.alves',\n",
        "  'jefferson.marcelo',\n",
        "  'lucas.chagas',\n",
        "  'luciano.filho',\n",
        "  'manuel.lucena',\n",
        "  'micael.pinheiro',\n",
        "  'calixto.paulo',\n",
        "  'viana.pedro',\n",
        "  'pedro.diniz',\n",
        "  'renata.albuquerque',\n",
        "  'willma.tayanne'\n",
        ")\n",
        "\n",
        "categories = ('ecma', 'w3c')\n",
        "status = {}\n",
        "\n",
        "for student in students:\n",
        "  status[student] = {}\n",
        "  for category in categories:\n",
        "      problems = os.listdir(category)\n",
        "      problems.remove('.DS_Store')\n",
        "      for problem in problems:\n",
        "        path = f'{category}/{problem}/{student}'\n",
        "        status[student][problem] = os.path.isdir(path)\n",
        "\n",
        "df = pd.DataFrame(status)"
      ]
    },
    {
      "cell_type": "code",
      "execution_count": 18,
      "metadata": {},
      "outputs": [
        {
          "data": {
            "text/plain": "willma.tayanne        0\nrenata.albuquerque    0\namarildo.melo         0\nana.caldas            0\nlima.anderson         0\ndiedjon.souza         0\nsousa.felipe          0\nflavio.souza          0\nitalo.alves           0\njefferson.marcelo     0\nlucas.chagas          0\nluciano.filho         0\nmanuel.lucena         0\nmicael.pinheiro       0\ncalixto.paulo         0\nviana.pedro           0\npedro.diniz           0\nalecsander.camilo     0\ndtype: int64"
          },
          "execution_count": 18,
          "metadata": {},
          "output_type": "execute_result"
        }
      ],
      "source": [
        "df[df==True].count(axis=0).sort_values(ascending=False)"
      ]
    },
    {
      "cell_type": "code",
      "execution_count": 19,
      "metadata": {},
      "outputs": [
        {
          "data": {
            "text/plain": "function-calc              0\nbasic-bmi                  0\nfunction-area-of-circle    0\nbasic-hello                0\nfunction-sum               0\nbasic-harmonic-series      0\nbasic-irrf                 0\nbasic-numbers              0\nbmi-simple                 0\ndtype: int64"
          },
          "execution_count": 19,
          "metadata": {},
          "output_type": "execute_result"
        }
      ],
      "source": [
        "df[df==True].count(axis=1).sort_values(ascending=True)"
      ]
    },
    {
      "cell_type": "code",
      "execution_count": 12,
      "metadata": {},
      "outputs": [
        {
          "name": "stdout",
          "output_type": "stream",
          "text": "0\n"
        }
      ],
      "source": [
        "print(df[df==True].count().sum())"
      ]
    }
  ]
}